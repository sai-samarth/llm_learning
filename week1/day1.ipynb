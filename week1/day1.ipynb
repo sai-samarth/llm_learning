{
 "cells": [
  {
   "cell_type": "markdown",
   "id": "d15d8294-3328-4e07-ad16-8a03e9bbfdb9",
   "metadata": {},
   "source": [
    "# Instant Gratification\n",
    "\n",
    "## Your first Frontier LLM Project!\n",
    "\n",
    "Let's build a useful LLM solution - in a matter of minutes.\n",
    "\n",
    "By the end of this course, you will have built an autonomous Agentic AI solution with 7 agents that collaborate to solve a business problem. All in good time! We will start with something smaller...\n",
    "\n",
    "Our goal is to code a new kind of Web Browser. Give it a URL, and it will respond with a summary. The Reader's Digest of the internet!!\n",
    "\n",
    "Before starting, you should have completed the setup for [PC](../SETUP-PC.md) or [Mac](../SETUP-mac.md) and you hopefully launched this jupyter lab from within the project root directory, with your environment activated.\n",
    "\n",
    "## If you're new to Jupyter Lab\n",
    "\n",
    "Welcome to the wonderful world of Data Science experimentation! Once you've used Jupyter Lab, you'll wonder how you ever lived without it. Simply click in each \"cell\" with code in it, such as the cell immediately below this text, and hit Shift+Return to execute that cell. As you wish, you can add a cell with the + button in the toolbar, and print values of variables, or try out variations.  \n",
    "\n",
    "I've written a notebook called [Guide to Jupyter](Guide%20to%20Jupyter.ipynb) to help you get more familiar with Jupyter Labs, including adding Markdown comments, using `!` to run shell commands, and `tqdm` to show progress.\n",
    "\n",
    "## If you'd prefer to work in IDEs\n",
    "\n",
    "If you're more comfortable in IDEs like VSCode or Pycharm, they both work great with these lab notebooks too.  \n",
    "If you'd prefer to work in VSCode, [here](https://chatgpt.com/share/676f2e19-c228-8012-9911-6ca42f8ed766) are instructions from an AI friend on how to configure it for the course.\n",
    "\n",
    "## If you'd like to brush up your Python\n",
    "\n",
    "I've added a notebook called [Intermediate Python](Intermediate%20Python.ipynb) to get you up to speed. But you should give it a miss if you already have a good idea what this code does:    \n",
    "`yield from {book.get(\"author\") for book in books if book.get(\"author\")}`\n",
    "\n",
    "## I am here to help\n",
    "\n",
    "If you have any problems at all, please do reach out.  \n",
    "I'm available through the platform, or at ed@edwarddonner.com, or at https://www.linkedin.com/in/eddonner/ if you'd like to connect (and I love connecting!)\n",
    "\n",
    "## More troubleshooting\n",
    "\n",
    "Please see the [troubleshooting](troubleshooting.ipynb) notebook in this folder to diagnose and fix common problems. At the very end of it is a diagnostics script with some useful debug info.\n",
    "\n",
    "## If this is old hat!\n",
    "\n",
    "If you're already comfortable with today's material, please hang in there; you can move swiftly through the first few labs - we will get much more in depth as the weeks progress.\n",
    "\n",
    "<table style=\"margin: 0; text-align: left;\">\n",
    "    <tr>\n",
    "        <td style=\"width: 150px; height: 150px; vertical-align: middle;\">\n",
    "            <img src=\"../important.jpg\" width=\"150\" height=\"150\" style=\"display: block;\" />\n",
    "        </td>\n",
    "        <td>\n",
    "            <h2 style=\"color:#900;\">Please read - important note</h2>\n",
    "            <span style=\"color:#900;\">The way I collaborate with you may be different to other courses you've taken. I prefer not to type code while you watch. Rather, I execute Jupyter Labs, like this, and give you an intuition for what's going on. My suggestion is that you do this with me, either at the same time, or (perhaps better) right afterwards. Add print statements to understand what's going on, and then come up with your own variations. If you have a Github account, use this to showcase your variations. Not only is this essential practice, but it demonstrates your skills to others, including perhaps future clients or employers...</span>\n",
    "        </td>\n",
    "    </tr>\n",
    "</table>\n",
    "<table style=\"margin: 0; text-align: left;\">\n",
    "    <tr>\n",
    "        <td style=\"width: 150px; height: 150px; vertical-align: middle;\">\n",
    "            <img src=\"../business.jpg\" width=\"150\" height=\"150\" style=\"display: block;\" />\n",
    "        </td>\n",
    "        <td>\n",
    "            <h2 style=\"color:#181;\">Business value of these exercises</h2>\n",
    "            <span style=\"color:#181;\">A final thought. While I've designed these notebooks to be educational, I've also tried to make them enjoyable. We'll do fun things like have LLMs tell jokes and argue with each other. But fundamentally, my goal is to teach skills you can apply in business. I'll explain business implications as we go, and it's worth keeping this in mind: as you build experience with models and techniques, think of ways you could put this into action at work today. Please do contact me if you'd like to discuss more or if you have ideas to bounce off me.</span>\n",
    "        </td>\n",
    "    </tr>\n",
    "</table>"
   ]
  },
  {
   "cell_type": "code",
   "execution_count": 1,
   "id": "4e2a9393-7767-488e-a8bf-27c12dca35bd",
   "metadata": {},
   "outputs": [],
   "source": [
    "# imports\n",
    "\n",
    "import os\n",
    "import requests\n",
    "from dotenv import load_dotenv\n",
    "from bs4 import BeautifulSoup\n",
    "from IPython.display import Markdown, display\n",
    "from openai import OpenAI\n",
    "\n",
    "# If you get an error running this cell, then please head over to the troubleshooting notebook!"
   ]
  },
  {
   "cell_type": "markdown",
   "id": "6900b2a8-6384-4316-8aaa-5e519fca4254",
   "metadata": {},
   "source": [
    "# Connecting to OpenAI\n",
    "\n",
    "The next cell is where we load in the environment variables in your `.env` file and connect to OpenAI.\n",
    "\n",
    "## Troubleshooting if you have problems:\n",
    "\n",
    "Head over to the [troubleshooting](troubleshooting.ipynb) notebook in this folder for step by step code to identify the root cause and fix it!\n",
    "\n",
    "If you make a change, try restarting the \"Kernel\" (the python process sitting behind this notebook) by Kernel menu >> Restart Kernel and Clear Outputs of All Cells. Then try this notebook again, starting at the top.\n",
    "\n",
    "Or, contact me! Message me or email ed@edwarddonner.com and we will get this to work.\n",
    "\n",
    "Any concerns about API costs? See my notes in the README - costs should be minimal, and you can control it at every point. You can also use Ollama as a free alternative, which we discuss during Day 2."
   ]
  },
  {
   "cell_type": "code",
   "execution_count": 2,
   "id": "7b87cadb-d513-4303-baee-a37b6f938e4d",
   "metadata": {},
   "outputs": [
    {
     "name": "stdout",
     "output_type": "stream",
     "text": [
      "API key found and looks good so far!\n"
     ]
    }
   ],
   "source": [
    "# Load environment variables in a file called .env\n",
    "\n",
    "load_dotenv(override=True)\n",
    "api_key = os.getenv('OPENAI_API_KEY')\n",
    "\n",
    "# Check the key\n",
    "\n",
    "if not api_key:\n",
    "    print(\"No API key was found - please head over to the troubleshooting notebook in this folder to identify & fix!\")\n",
    "elif not api_key.startswith(\"sk-proj-\"):\n",
    "    print(\"An API key was found, but it doesn't start sk-proj-; please check you're using the right key - see troubleshooting notebook\")\n",
    "elif api_key.strip() != api_key:\n",
    "    print(\"An API key was found, but it looks like it might have space or tab characters at the start or end - please remove them - see troubleshooting notebook\")\n",
    "else:\n",
    "    print(\"API key found and looks good so far!\")\n"
   ]
  },
  {
   "cell_type": "code",
   "execution_count": 3,
   "id": "019974d9-f3ad-4a8a-b5f9-0a3719aea2d3",
   "metadata": {},
   "outputs": [],
   "source": [
    "openai = OpenAI()\n",
    "\n",
    "# If this doesn't work, try Kernel menu >> Restart Kernel and Clear Outputs Of All Cells, then run the cells from the top of this notebook down.\n",
    "# If it STILL doesn't work (horrors!) then please see the Troubleshooting notebook in this folder for full instructions"
   ]
  },
  {
   "cell_type": "markdown",
   "id": "442fc84b-0815-4f40-99ab-d9a5da6bda91",
   "metadata": {},
   "source": [
    "# Let's make a quick call to a Frontier model to get started, as a preview!"
   ]
  },
  {
   "cell_type": "code",
   "execution_count": 4,
   "id": "a58394bf-1e45-46af-9bfd-01e24da6f49a",
   "metadata": {},
   "outputs": [
    {
     "name": "stdout",
     "output_type": "stream",
     "text": [
      "Hello! Welcome! I'm glad to have you here. How can I assist you today?\n"
     ]
    }
   ],
   "source": [
    "# To give you a preview -- calling OpenAI with these messages is this easy. Any problems, head over to the Troubleshooting notebook.\n",
    "\n",
    "message = \"Hello, GPT! This is my first ever message to you! Hi!\"\n",
    "response = openai.chat.completions.create(model=\"gpt-4o-mini\", messages=[{\"role\":\"user\", \"content\":message}])\n",
    "print(response.choices[0].message.content)"
   ]
  },
  {
   "cell_type": "markdown",
   "id": "2aa190e5-cb31-456a-96cc-db109919cd78",
   "metadata": {},
   "source": [
    "## OK onwards with our first project"
   ]
  },
  {
   "cell_type": "code",
   "execution_count": 5,
   "id": "c5e793b2-6775-426a-a139-4848291d0463",
   "metadata": {},
   "outputs": [],
   "source": [
    "# A class to represent a Webpage\n",
    "# If you're not familiar with Classes, check out the \"Intermediate Python\" notebook\n",
    "\n",
    "# Some websites need you to use proper headers when fetching them:\n",
    "headers = {\n",
    " \"User-Agent\": \"Mozilla/5.0 (Windows NT 10.0; Win64; x64) AppleWebKit/537.36 (KHTML, like Gecko) Chrome/117.0.0.0 Safari/537.36\"\n",
    "}\n",
    "\n",
    "class Website:\n",
    "\n",
    "    def __init__(self, url):\n",
    "        \"\"\"\n",
    "        Create this Website object from the given url using the BeautifulSoup library\n",
    "        \"\"\"\n",
    "        self.url = url\n",
    "        response = requests.get(url, headers=headers)\n",
    "        soup = BeautifulSoup(response.content, 'html.parser')\n",
    "        self.title = soup.title.string if soup.title else \"No title found\"\n",
    "        for irrelevant in soup.body([\"script\", \"style\", \"img\", \"input\"]):\n",
    "            irrelevant.decompose()\n",
    "        self.text = soup.body.get_text(separator=\"\\n\", strip=True)"
   ]
  },
  {
   "cell_type": "code",
   "execution_count": 11,
   "id": "2ef960cf-6dc2-4cda-afb3-b38be12f4c97",
   "metadata": {},
   "outputs": [
    {
     "name": "stdout",
     "output_type": "stream",
     "text": [
      "SaiSamarth – Welcome to World of SaiSamarth\n",
      "SaiSamarth\n",
      "Menu\n",
      "SaiSamarth\n",
      "Menu\n",
      "Home\n",
      "About\n",
      "Resume\n",
      "Portfolio\n",
      "Contact\n",
      "Shortcodes\n",
      "Social\n",
      "SCROLL\n",
      "INTRODUCTION\n",
      "I'm a Student interested in\n",
      "Artificial Intelligence\n",
      "ABOUT\n",
      "I'm a passionate student with a keen interest in the fascinating world of Artificial Intelligence.\n",
      "Currently pursuing my studies in Computer Science, I have dedicated my time to exploring the realms of AI and Data Science. From developing machine learning models to creating predictive analytics solutions, I thrive on leveraging the power of data to solve real-world problems. As an enthusiastic learner, I continuously seek to expand my knowledge and stay updated with the latest advancements in AI.\n",
      "PORTFOLIO\n",
      "Selected Projects\n",
      "I invite you to explore my portfolio, where you can find a collection of my projects showcasing my skills and passion for this dynamic field.\n",
      "DragGAN – Using Real Images\n",
      "Surface Experience\n",
      "Surface Experience\n",
      "Lorem Ipsum is simply dummy text of the printing and typesetting industry. Lorem Ipsum has been the industrys standard dummy text ever since the 1500s, when an unknown printer took a galley of type and scrambled it to make a type specimen book.\n",
      "Adaptive Generation\n",
      "Adaptive Generation\n",
      "Lorem Ipsum is simply dummy text of the printing and typesetting industry. Lorem Ipsum has been the industrys standard dummy text ever since the 1500s, when an unknown printer took a galley of type and scrambled it to make a type specimen book.\n",
      "Frame Manufacturer\n",
      "Frame Manufacturer\n",
      "Lorem Ipsum is simply dummy text of the printing and typesetting industry. Lorem Ipsum has been the industrys standard dummy text ever since the 1500s, when an unknown printer took a galley of type and scrambled it to make a type specimen book.\n",
      "SERVICES\n",
      "What I can do.\n",
      "Lorem ipsum dolor sit amet, consectetur. Adipiscing elit. Aenean et elementum purus.\n",
      "Design\n",
      "Brand Systems - Design Systems - Visual Identities - Interaction Design - Visal Design - Motion Design\n",
      "Marketing\n",
      "Marketing Strategy - SEO Strategy - Analytics - Creative Storytelling - UX Copywriting - Google PPC\n",
      "Development\n",
      "UI Development - Technical Consultancy - App Development - Back-End Development - Cloud Infrastructure - Dev-Ops - SDK Development\n",
      "RESUME\n",
      "Experience\n",
      "Lorem ipsum dolor sit amet, consectetur. Adipiscing elit. Aenean et elementum purus.\n",
      "Google\n",
      "2017-2019\n",
      "Full-Stack Developer\n",
      "Lorem Ipsum is simply dummy text of the printing industry.\n",
      "Tesla\n",
      "2015-2017\n",
      "Front-End Developer\n",
      "Lorem Ipsum is simply dummy text of the printing industry.\n",
      "Adobe\n",
      "2014-2015\n",
      "Javascript Developer\n",
      "Lorem Ipsum is simply dummy text of the printing industry.\n",
      "SKILLS\n",
      "Skills I have collected\n",
      "over the years and days.\n",
      "HTML/CSS\n",
      "84%\n",
      "Javascript\n",
      "70%\n",
      "WordPress\n",
      "96%\n",
      "ACHIEVEMENTS\n",
      "Acceleration: A rapid increase in valuation and standards.\n",
      "Lorem Ipsum is simply dummy text of the printing and typesetting industry. Lorem Ipsum has been the industry’s standard dummy text.\n",
      "40\n",
      "Awards\n",
      "30+\n",
      "Apps\n",
      "90+\n",
      "Projects\n",
      "130%\n",
      "Client ROI\n",
      "CUSTOMERS\n",
      "Selected Clients\n",
      "TESTIMONIALS\n",
      "What my customer\n",
      "are saying about me?\n",
      "\"We chose Lenoox because it is the perfect combination of convenience and quality. Team takes care of getting us high-quality images quickly and more than build jacket efficiently.\"\n",
      "John Miller\n",
      "CEO Tesla Inc.\n",
      "\"We chose Lenoox because it is the perfect combination of convenience and quality. Team takes care of getting us high-quality images quickly and more than build jacket efficiently.\"\n",
      "Elena Louise\n",
      "CTO Stellar Industries\n",
      "\"We chose Lenoox because it is the perfect combination of convenience and quality. Team takes care of getting us high-quality images quickly and more than build jacket efficiently.\"\n",
      "Brandon Hadid\n",
      "CEO Ubisoft Montreal\n",
      "PRICING\n",
      "Find the plan that's\n",
      "right for your business.\n",
      "Lorem ipsum dolor sit amet, consectetur. Adipiscing elit. Aenean et elementum purus.\n",
      "Full-Time\n",
      "$59\n",
      "/each hour\n",
      "Remote\n",
      "Weekends\n",
      "Daily Reports\n",
      "24/7 Support\n",
      "Contract\n",
      "$79\n",
      "/each hour\n",
      "FAQ\n",
      "Do you have questions?\n",
      "Lorem ipsum dolor sit amet, consectetur. Adipiscing elit. Aenean et elementum purus.\n",
      "Can I purchase for commercial work?\n",
      "Lorem Ipsum is simply dummy text of the printing and typesetting industry. Lorem Ipsum has been the industry's standard since the 1500s.\n",
      "How does the daily update work?\n",
      "Lorem Ipsum is simply dummy text of the printing and typesetting industry. Lorem Ipsum has been the industry's standard since the 1500s.\n",
      "Do you use long term contracts?\n",
      "Lorem Ipsum is simply dummy text of the printing and typesetting industry. Lorem Ipsum has been the industry's standard since the 1500s.\n",
      "Can you work full time?\n",
      "Lorem Ipsum is simply dummy text of the printing and typesetting industry. Lorem Ipsum has been the industry's standard since the 1500s.\n",
      "CONTACT\n",
      "Let's get in touch.\n",
      "Fill out my form below and send me an email.\n",
      "Send\n",
      "* Marked fields are required to fill.\n",
      "Your Message has been sent!\n"
     ]
    }
   ],
   "source": [
    "# Let's try one out. Change the website and add print statements to follow along.\n",
    "\n",
    "ed = Website(\"https://saisamarth.me\")\n",
    "print(ed.title)\n",
    "print(ed.text)"
   ]
  },
  {
   "cell_type": "markdown",
   "id": "6a478a0c-2c53-48ff-869c-4d08199931e1",
   "metadata": {},
   "source": [
    "## Types of prompts\n",
    "\n",
    "You may know this already - but if not, you will get very familiar with it!\n",
    "\n",
    "Models like GPT4o have been trained to receive instructions in a particular way.\n",
    "\n",
    "They expect to receive:\n",
    "\n",
    "**A system prompt** that tells them what task they are performing and what tone they should use\n",
    "\n",
    "**A user prompt** -- the conversation starter that they should reply to"
   ]
  },
  {
   "cell_type": "code",
   "execution_count": 12,
   "id": "abdb8417-c5dc-44bc-9bee-2e059d162699",
   "metadata": {},
   "outputs": [],
   "source": [
    "# Define our system prompt - you can experiment with this later, changing the last sentence to 'Respond in markdown in Spanish.\"\n",
    "\n",
    "system_prompt = \"You are an assistant that analyzes the contents of a website \\\n",
    "and provides a short summary, ignoring text that might be navigation related. \\\n",
    "Respond in markdown.\""
   ]
  },
  {
   "cell_type": "code",
   "execution_count": 13,
   "id": "f0275b1b-7cfe-4f9d-abfa-7650d378da0c",
   "metadata": {},
   "outputs": [],
   "source": [
    "# A function that writes a User Prompt that asks for summaries of websites:\n",
    "\n",
    "def user_prompt_for(website):\n",
    "    user_prompt = f\"You are looking at a website titled {website.title}\"\n",
    "    user_prompt += \"\\nThe contents of this website is as follows; \\\n",
    "please provide a short summary of this website in markdown. \\\n",
    "If it includes news or announcements, then summarize these too.\\n\\n\"\n",
    "    user_prompt += website.text\n",
    "    return user_prompt"
   ]
  },
  {
   "cell_type": "code",
   "execution_count": 14,
   "id": "26448ec4-5c00-4204-baec-7df91d11ff2e",
   "metadata": {},
   "outputs": [
    {
     "name": "stdout",
     "output_type": "stream",
     "text": [
      "You are looking at a website titled SaiSamarth – Welcome to World of SaiSamarth\n",
      "The contents of this website is as follows; please provide a short summary of this website in markdown. If it includes news or announcements, then summarize these too.\n",
      "\n",
      "SaiSamarth\n",
      "Menu\n",
      "SaiSamarth\n",
      "Menu\n",
      "Home\n",
      "About\n",
      "Resume\n",
      "Portfolio\n",
      "Contact\n",
      "Shortcodes\n",
      "Social\n",
      "SCROLL\n",
      "INTRODUCTION\n",
      "I'm a Student interested in\n",
      "Artificial Intelligence\n",
      "ABOUT\n",
      "I'm a passionate student with a keen interest in the fascinating world of Artificial Intelligence.\n",
      "Currently pursuing my studies in Computer Science, I have dedicated my time to exploring the realms of AI and Data Science. From developing machine learning models to creating predictive analytics solutions, I thrive on leveraging the power of data to solve real-world problems. As an enthusiastic learner, I continuously seek to expand my knowledge and stay updated with the latest advancements in AI.\n",
      "PORTFOLIO\n",
      "Selected Projects\n",
      "I invite you to explore my portfolio, where you can find a collection of my projects showcasing my skills and passion for this dynamic field.\n",
      "DragGAN – Using Real Images\n",
      "Surface Experience\n",
      "Surface Experience\n",
      "Lorem Ipsum is simply dummy text of the printing and typesetting industry. Lorem Ipsum has been the industrys standard dummy text ever since the 1500s, when an unknown printer took a galley of type and scrambled it to make a type specimen book.\n",
      "Adaptive Generation\n",
      "Adaptive Generation\n",
      "Lorem Ipsum is simply dummy text of the printing and typesetting industry. Lorem Ipsum has been the industrys standard dummy text ever since the 1500s, when an unknown printer took a galley of type and scrambled it to make a type specimen book.\n",
      "Frame Manufacturer\n",
      "Frame Manufacturer\n",
      "Lorem Ipsum is simply dummy text of the printing and typesetting industry. Lorem Ipsum has been the industrys standard dummy text ever since the 1500s, when an unknown printer took a galley of type and scrambled it to make a type specimen book.\n",
      "SERVICES\n",
      "What I can do.\n",
      "Lorem ipsum dolor sit amet, consectetur. Adipiscing elit. Aenean et elementum purus.\n",
      "Design\n",
      "Brand Systems - Design Systems - Visual Identities - Interaction Design - Visal Design - Motion Design\n",
      "Marketing\n",
      "Marketing Strategy - SEO Strategy - Analytics - Creative Storytelling - UX Copywriting - Google PPC\n",
      "Development\n",
      "UI Development - Technical Consultancy - App Development - Back-End Development - Cloud Infrastructure - Dev-Ops - SDK Development\n",
      "RESUME\n",
      "Experience\n",
      "Lorem ipsum dolor sit amet, consectetur. Adipiscing elit. Aenean et elementum purus.\n",
      "Google\n",
      "2017-2019\n",
      "Full-Stack Developer\n",
      "Lorem Ipsum is simply dummy text of the printing industry.\n",
      "Tesla\n",
      "2015-2017\n",
      "Front-End Developer\n",
      "Lorem Ipsum is simply dummy text of the printing industry.\n",
      "Adobe\n",
      "2014-2015\n",
      "Javascript Developer\n",
      "Lorem Ipsum is simply dummy text of the printing industry.\n",
      "SKILLS\n",
      "Skills I have collected\n",
      "over the years and days.\n",
      "HTML/CSS\n",
      "84%\n",
      "Javascript\n",
      "70%\n",
      "WordPress\n",
      "96%\n",
      "ACHIEVEMENTS\n",
      "Acceleration: A rapid increase in valuation and standards.\n",
      "Lorem Ipsum is simply dummy text of the printing and typesetting industry. Lorem Ipsum has been the industry’s standard dummy text.\n",
      "40\n",
      "Awards\n",
      "30+\n",
      "Apps\n",
      "90+\n",
      "Projects\n",
      "130%\n",
      "Client ROI\n",
      "CUSTOMERS\n",
      "Selected Clients\n",
      "TESTIMONIALS\n",
      "What my customer\n",
      "are saying about me?\n",
      "\"We chose Lenoox because it is the perfect combination of convenience and quality. Team takes care of getting us high-quality images quickly and more than build jacket efficiently.\"\n",
      "John Miller\n",
      "CEO Tesla Inc.\n",
      "\"We chose Lenoox because it is the perfect combination of convenience and quality. Team takes care of getting us high-quality images quickly and more than build jacket efficiently.\"\n",
      "Elena Louise\n",
      "CTO Stellar Industries\n",
      "\"We chose Lenoox because it is the perfect combination of convenience and quality. Team takes care of getting us high-quality images quickly and more than build jacket efficiently.\"\n",
      "Brandon Hadid\n",
      "CEO Ubisoft Montreal\n",
      "PRICING\n",
      "Find the plan that's\n",
      "right for your business.\n",
      "Lorem ipsum dolor sit amet, consectetur. Adipiscing elit. Aenean et elementum purus.\n",
      "Full-Time\n",
      "$59\n",
      "/each hour\n",
      "Remote\n",
      "Weekends\n",
      "Daily Reports\n",
      "24/7 Support\n",
      "Contract\n",
      "$79\n",
      "/each hour\n",
      "FAQ\n",
      "Do you have questions?\n",
      "Lorem ipsum dolor sit amet, consectetur. Adipiscing elit. Aenean et elementum purus.\n",
      "Can I purchase for commercial work?\n",
      "Lorem Ipsum is simply dummy text of the printing and typesetting industry. Lorem Ipsum has been the industry's standard since the 1500s.\n",
      "How does the daily update work?\n",
      "Lorem Ipsum is simply dummy text of the printing and typesetting industry. Lorem Ipsum has been the industry's standard since the 1500s.\n",
      "Do you use long term contracts?\n",
      "Lorem Ipsum is simply dummy text of the printing and typesetting industry. Lorem Ipsum has been the industry's standard since the 1500s.\n",
      "Can you work full time?\n",
      "Lorem Ipsum is simply dummy text of the printing and typesetting industry. Lorem Ipsum has been the industry's standard since the 1500s.\n",
      "CONTACT\n",
      "Let's get in touch.\n",
      "Fill out my form below and send me an email.\n",
      "Send\n",
      "* Marked fields are required to fill.\n",
      "Your Message has been sent!\n"
     ]
    }
   ],
   "source": [
    "print(user_prompt_for(ed))"
   ]
  },
  {
   "cell_type": "markdown",
   "id": "ea211b5f-28e1-4a86-8e52-c0b7677cadcc",
   "metadata": {},
   "source": [
    "## Messages\n",
    "\n",
    "The API from OpenAI expects to receive messages in a particular structure.\n",
    "Many of the other APIs share this structure:\n",
    "\n",
    "```\n",
    "[\n",
    "    {\"role\": \"system\", \"content\": \"system message goes here\"},\n",
    "    {\"role\": \"user\", \"content\": \"user message goes here\"}\n",
    "]\n",
    "\n",
    "To give you a preview, the next 2 cells make a rather simple call - we won't stretch the might GPT (yet!)"
   ]
  },
  {
   "cell_type": "code",
   "execution_count": 17,
   "id": "f25dcd35-0cd0-4235-9f64-ac37ed9eaaa5",
   "metadata": {},
   "outputs": [],
   "source": [
    "messages = [\n",
    "    {\"role\": \"system\", \"content\": \"You are a 5 year old kid.\"},\n",
    "    {\"role\": \"user\", \"content\": \"What is 2 + 2?\"}\n",
    "]"
   ]
  },
  {
   "cell_type": "code",
   "execution_count": 18,
   "id": "21ed95c5-7001-47de-a36d-1d6673b403ce",
   "metadata": {},
   "outputs": [
    {
     "name": "stdout",
     "output_type": "stream",
     "text": [
      "2 + 2 is 4! Yay!\n"
     ]
    }
   ],
   "source": [
    "# To give you a preview -- calling OpenAI with system and user messages:\n",
    "\n",
    "response = openai.chat.completions.create(model=\"gpt-4o-mini\", messages=messages)\n",
    "print(response.choices[0].message.content)"
   ]
  },
  {
   "cell_type": "markdown",
   "id": "d06e8d78-ce4c-4b05-aa8e-17050c82bb47",
   "metadata": {},
   "source": [
    "## And now let's build useful messages for GPT-4o-mini, using a function"
   ]
  },
  {
   "cell_type": "code",
   "execution_count": 19,
   "id": "0134dfa4-8299-48b5-b444-f2a8c3403c88",
   "metadata": {},
   "outputs": [],
   "source": [
    "# See how this function creates exactly the format above\n",
    "\n",
    "def messages_for(website):\n",
    "    return [\n",
    "        {\"role\": \"system\", \"content\": system_prompt},\n",
    "        {\"role\": \"user\", \"content\": user_prompt_for(website)}\n",
    "    ]"
   ]
  },
  {
   "cell_type": "code",
   "execution_count": 20,
   "id": "36478464-39ee-485c-9f3f-6a4e458dbc9c",
   "metadata": {},
   "outputs": [
    {
     "data": {
      "text/plain": [
       "[{'role': 'system',\n",
       "  'content': 'You are an assistant that analyzes the contents of a website and provides a short summary, ignoring text that might be navigation related. Respond in markdown.'},\n",
       " {'role': 'user',\n",
       "  'content': 'You are looking at a website titled SaiSamarth – Welcome to World of SaiSamarth\\nThe contents of this website is as follows; please provide a short summary of this website in markdown. If it includes news or announcements, then summarize these too.\\n\\nSaiSamarth\\nMenu\\nSaiSamarth\\nMenu\\nHome\\nAbout\\nResume\\nPortfolio\\nContact\\nShortcodes\\nSocial\\nSCROLL\\nINTRODUCTION\\nI\\'m a Student interested in\\nArtificial Intelligence\\nABOUT\\nI\\'m a passionate student with a keen interest in the fascinating world of Artificial Intelligence.\\nCurrently pursuing my studies in Computer Science, I have dedicated my time to exploring the realms of AI and Data Science. From developing machine learning models to creating predictive analytics solutions, I thrive on leveraging the power of data to solve real-world problems. As an enthusiastic learner, I continuously seek to expand my knowledge and stay updated with the latest advancements in AI.\\nPORTFOLIO\\nSelected Projects\\nI invite you to explore my portfolio, where you can find a collection of my projects showcasing my skills and passion for this dynamic field.\\nDragGAN – Using Real Images\\nSurface Experience\\nSurface Experience\\nLorem Ipsum is simply dummy text of the printing and typesetting industry. Lorem Ipsum has been the industrys standard dummy text ever since the 1500s, when an unknown printer took a galley of type and scrambled it to make a type specimen book.\\nAdaptive Generation\\nAdaptive Generation\\nLorem Ipsum is simply dummy text of the printing and typesetting industry. Lorem Ipsum has been the industrys standard dummy text ever since the 1500s, when an unknown printer took a galley of type and scrambled it to make a type specimen book.\\nFrame Manufacturer\\nFrame Manufacturer\\nLorem Ipsum is simply dummy text of the printing and typesetting industry. Lorem Ipsum has been the industrys standard dummy text ever since the 1500s, when an unknown printer took a galley of type and scrambled it to make a type specimen book.\\nSERVICES\\nWhat I can do.\\nLorem ipsum dolor sit amet, consectetur. Adipiscing elit. Aenean et elementum purus.\\nDesign\\nBrand Systems - Design Systems - Visual Identities - Interaction Design - Visal Design - Motion Design\\nMarketing\\nMarketing Strategy - SEO Strategy - Analytics - Creative Storytelling - UX Copywriting - Google PPC\\nDevelopment\\nUI Development - Technical Consultancy - App Development - Back-End Development - Cloud Infrastructure - Dev-Ops - SDK Development\\nRESUME\\nExperience\\nLorem ipsum dolor sit amet, consectetur. Adipiscing elit. Aenean et elementum purus.\\nGoogle\\n2017-2019\\nFull-Stack Developer\\nLorem Ipsum is simply dummy text of the printing industry.\\nTesla\\n2015-2017\\nFront-End Developer\\nLorem Ipsum is simply dummy text of the printing industry.\\nAdobe\\n2014-2015\\nJavascript Developer\\nLorem Ipsum is simply dummy text of the printing industry.\\nSKILLS\\nSkills I have collected\\nover the years and days.\\nHTML/CSS\\n84%\\nJavascript\\n70%\\nWordPress\\n96%\\nACHIEVEMENTS\\nAcceleration: A rapid increase in valuation and standards.\\nLorem Ipsum is simply dummy text of the printing and typesetting industry. Lorem Ipsum has been the industry’s standard dummy text.\\n40\\nAwards\\n30+\\nApps\\n90+\\nProjects\\n130%\\nClient ROI\\nCUSTOMERS\\nSelected Clients\\nTESTIMONIALS\\nWhat my customer\\nare saying about me?\\n\"We chose Lenoox because it is the perfect combination of convenience and quality. Team takes care of getting us high-quality images quickly and more than build jacket efficiently.\"\\nJohn Miller\\nCEO Tesla Inc.\\n\"We chose Lenoox because it is the perfect combination of convenience and quality. Team takes care of getting us high-quality images quickly and more than build jacket efficiently.\"\\nElena Louise\\nCTO Stellar Industries\\n\"We chose Lenoox because it is the perfect combination of convenience and quality. Team takes care of getting us high-quality images quickly and more than build jacket efficiently.\"\\nBrandon Hadid\\nCEO Ubisoft Montreal\\nPRICING\\nFind the plan that\\'s\\nright for your business.\\nLorem ipsum dolor sit amet, consectetur. Adipiscing elit. Aenean et elementum purus.\\nFull-Time\\n$59\\n/each hour\\nRemote\\nWeekends\\nDaily Reports\\n24/7 Support\\nContract\\n$79\\n/each hour\\nFAQ\\nDo you have questions?\\nLorem ipsum dolor sit amet, consectetur. Adipiscing elit. Aenean et elementum purus.\\nCan I purchase for commercial work?\\nLorem Ipsum is simply dummy text of the printing and typesetting industry. Lorem Ipsum has been the industry\\'s standard since the 1500s.\\nHow does the daily update work?\\nLorem Ipsum is simply dummy text of the printing and typesetting industry. Lorem Ipsum has been the industry\\'s standard since the 1500s.\\nDo you use long term contracts?\\nLorem Ipsum is simply dummy text of the printing and typesetting industry. Lorem Ipsum has been the industry\\'s standard since the 1500s.\\nCan you work full time?\\nLorem Ipsum is simply dummy text of the printing and typesetting industry. Lorem Ipsum has been the industry\\'s standard since the 1500s.\\nCONTACT\\nLet\\'s get in touch.\\nFill out my form below and send me an email.\\nSend\\n* Marked fields are required to fill.\\nYour Message has been sent!'}]"
      ]
     },
     "execution_count": 20,
     "metadata": {},
     "output_type": "execute_result"
    }
   ],
   "source": [
    "# Try this out, and then try for a few more websites\n",
    "\n",
    "messages_for(ed)"
   ]
  },
  {
   "cell_type": "markdown",
   "id": "16f49d46-bf55-4c3e-928f-68fc0bf715b0",
   "metadata": {},
   "source": [
    "## Time to bring it together - the API for OpenAI is very simple!"
   ]
  },
  {
   "cell_type": "code",
   "execution_count": 21,
   "id": "905b9919-aba7-45b5-ae65-81b3d1d78e34",
   "metadata": {},
   "outputs": [],
   "source": [
    "# And now: call the OpenAI API. You will get very familiar with this!\n",
    "\n",
    "def summarize(url):\n",
    "    website = Website(url)\n",
    "    response = openai.chat.completions.create(\n",
    "        model = \"gpt-4o-mini\",\n",
    "        messages = messages_for(website)\n",
    "    )\n",
    "    return response.choices[0].message.content"
   ]
  },
  {
   "cell_type": "code",
   "execution_count": 22,
   "id": "05e38d41-dfa4-4b20-9c96-c46ea75d9fb5",
   "metadata": {},
   "outputs": [
    {
     "data": {
      "text/plain": [
       "'# Summary of SaiSamarth Website\\n\\n**Introduction**\\nSaiSamarth is a personal website presenting the work and interests of a Computer Science student with a focus on Artificial Intelligence. The site showcases various projects and skills related to AI and Data Science.\\n\\n**About**\\nThe individual describes their passion for AI, highlighting their experience in developing machine learning models and predictive analytics solutions.\\n\\n**Portfolio**\\nThe portfolio features selected projects, including:\\n- **DragGAN** – Using Real Images\\n- **Surface Experience**\\n- **Adaptive Generation**\\n- **Frame Manufacturer**\\n\\nEach project aims to demonstrate their skills in the AI domain.\\n\\n**Services**\\nThe website outlines services offered, including:\\n- **Design:** Brand Systems, Interaction Design, Motion Design\\n- **Marketing:** Strategy and Analytics\\n- **Development:** UI Development, App Development, Cloud Infrastructure\\n\\n**Resume**\\nThe resume section includes prior experiences working as a developer at companies such as Google, Tesla, and Adobe.\\n\\n**Skills**\\nAn overview of the individual’s skills in HTML/CSS, JavaScript, and WordPress, accompanied by percentage proficiency.\\n\\n**Achievements**\\nThe site notes accomplishments including awards, apps developed, and substantial project work leading to client return on investment.\\n\\n**Testimonials**\\nThe website features praise from clients, highlighting satisfaction with services provided.\\n\\n**Pricing**\\nPricing details are provided for full-time and contract work, along with additional support services.\\n\\n**Contact**\\nVisitors are encouraged to get in touch via a contact form on the site.\\n\\nOverall, the SaiSamarth website serves as a personal and professional showcase for a student focused on advancing in the field of Artificial Intelligence.'"
      ]
     },
     "execution_count": 22,
     "metadata": {},
     "output_type": "execute_result"
    }
   ],
   "source": [
    "summarize(\"https://saisamarth.me\")"
   ]
  },
  {
   "cell_type": "code",
   "execution_count": 23,
   "id": "3d926d59-450e-4609-92ba-2d6f244f1342",
   "metadata": {},
   "outputs": [],
   "source": [
    "# A function to display this nicely in the Jupyter output, using markdown\n",
    "\n",
    "def display_summary(url):\n",
    "    summary = summarize(url)\n",
    "    display(Markdown(summary))"
   ]
  },
  {
   "cell_type": "code",
   "execution_count": 24,
   "id": "3018853a-445f-41ff-9560-d925d1774b2f",
   "metadata": {},
   "outputs": [
    {
     "data": {
      "text/markdown": [
       "# SaiSamarth Website Summary\n",
       "\n",
       "**Overview:**  \n",
       "SaiSamarth is a personal portfolio website belonging to a student passionate about Artificial Intelligence and Data Science. The website showcases the individual's skills, projects, and services while providing insight into their achievements and experience in the tech field.\n",
       "\n",
       "## About\n",
       "The creator is a dedicated student pursuing Computer Science, with a focus on AI and Data Science. They engage in various projects involving machine learning and predictive analytics, showcasing a commitment to leveraging data for real-world problem-solving.\n",
       "\n",
       "## Portfolio\n",
       "The portfolio features a selection of projects, although detailed descriptions are limited. Notable projects include:\n",
       "- **DragGAN:** Utilizing real images.\n",
       "- **Surface Experience:** (Details not provided)\n",
       "- **Adaptive Generation:** (Details not provided)\n",
       "- **Frame Manufacturer:** (Details not provided)\n",
       "\n",
       "## Services\n",
       "The site outlines a range of services offered:\n",
       "- **Design:** Visual identities, interaction design, and motion design.\n",
       "- **Marketing:** Strategies, storytelling, and analytics.\n",
       "- **Development:** UI/Back-End development and consultancy.\n",
       "\n",
       "## Resume\n",
       "The creator's work experience includes:\n",
       "- **Google** (2017-2019): Full-Stack Developer\n",
       "- **Tesla** (2015-2017): Front-End Developer\n",
       "- **Adobe** (2014-2015): Javascript Developer\n",
       "\n",
       "## Skills and Achievements\n",
       "Skills highlighted include HTML/CSS, Javascript, and WordPress with various proficiency percentages. Achievements boast:\n",
       "- 40 Awards\n",
       "- 30+ Apps Developed\n",
       "- 90+ Projects Completed\n",
       "- 130% Client ROI\n",
       "\n",
       "## Testimonials\n",
       "Customer feedback emphasizes the quality and efficiency of services provided, with noted clients including Tesla and Ubisoft Montreal.\n",
       "\n",
       "## Pricing\n",
       "The website contains a pricing section offering:\n",
       "- **Full-Time Rate:** $59 per hour\n",
       "- **Contract Rate:** $79 per hour\n",
       "\n",
       "## Contact\n",
       "Visitors can reach out through a contact form provided for inquiries and further communication. \n",
       "\n",
       "Overall, the website encapsulates the creator's journey in AI, their creative endeavors, and their professional services in technology and design."
      ],
      "text/plain": [
       "<IPython.core.display.Markdown object>"
      ]
     },
     "metadata": {},
     "output_type": "display_data"
    }
   ],
   "source": [
    "display_summary(\"https://saisamarth.me\")"
   ]
  },
  {
   "cell_type": "markdown",
   "id": "b3bcf6f4-adce-45e9-97ad-d9a5d7a3a624",
   "metadata": {},
   "source": [
    "# Let's try more websites\n",
    "\n",
    "Note that this will only work on websites that can be scraped using this simplistic approach.\n",
    "\n",
    "Websites that are rendered with Javascript, like React apps, won't show up. See the community-contributions folder for a Selenium implementation that gets around this. You'll need to read up on installing Selenium (ask ChatGPT!)\n",
    "\n",
    "Also Websites protected with CloudFront (and similar) may give 403 errors - many thanks Andy J for pointing this out.\n",
    "\n",
    "But many websites will work just fine!"
   ]
  },
  {
   "cell_type": "code",
   "execution_count": 25,
   "id": "45d83403-a24c-44b5-84ac-961449b4008f",
   "metadata": {},
   "outputs": [
    {
     "data": {
      "text/markdown": [
       "# CNN Summary\n",
       "\n",
       "CNN is a prominent news organization that provides up-to-date news coverage on a variety of topics, including US and world news, politics, business, health, entertainment, science, and sports. The site also features live videos, special reports, and various sections dedicated to specific themes like climate, politics, and travel.\n",
       "\n",
       "## Key News Announcements:\n",
       "- **Israel-Hamas Conflict**: Israel has approved a ceasefire and hostage deal, with a ceasefire expected to begin after intense cabinet discussions.\n",
       "- **TikTok**: The platform announced it would be unavailable in the US unless immediate government intervention occurs.\n",
       "- **Russia in Africa**: An analysis highlights Russia's expanding influence in Africa amid geopolitical tensions.\n",
       "\n",
       "The site also includes features on current events, such as significant political moves, environmental issues, and sports news, maintaining a focus on in-depth analysis and ongoing reporting from various correspondents."
      ],
      "text/plain": [
       "<IPython.core.display.Markdown object>"
      ]
     },
     "metadata": {},
     "output_type": "display_data"
    }
   ],
   "source": [
    "display_summary(\"https://cnn.com\")"
   ]
  },
  {
   "cell_type": "code",
   "execution_count": 26,
   "id": "75e9fd40-b354-4341-991e-863ef2e59db7",
   "metadata": {},
   "outputs": [
    {
     "data": {
      "text/markdown": [
       "# Anthropic Website Summary\n",
       "\n",
       "Anthropic is an AI safety and research company based in San Francisco, focused on creating reliable and beneficial AI systems. The website features information about their main product, Claude, including the latest model updates.\n",
       "\n",
       "## Key Offerings:\n",
       "- **Claude 3.5 Sonnet**: The newest and most intelligent AI model available for user interactions.\n",
       "- **Claude for Enterprise**: Tailored AI solutions for businesses.\n",
       "- **API Access**: Tools to build AI-powered applications and custom experiences.\n",
       "\n",
       "## Recent Announcements:\n",
       "- **October 22, 2024**: Introduced new features for Claude 3.5 Sonnet and a new model, Claude 3.5 Haiku.\n",
       "- **September 4, 2024**: Further developments related to Claude for Enterprise.\n",
       "- **Previous Updates**: Research on AI safety and alignment, including insights on \"Constitutional AI\" from December 2022, and discussions on AI safety principles from March 2023.\n",
       "\n",
       "Anthropic emphasizes a multidisciplinary approach, pooling expertise from various fields to enhance AI safety and functionality."
      ],
      "text/plain": [
       "<IPython.core.display.Markdown object>"
      ]
     },
     "metadata": {},
     "output_type": "display_data"
    }
   ],
   "source": [
    "display_summary(\"https://anthropic.com\")"
   ]
  },
  {
   "cell_type": "markdown",
   "id": "c951be1a-7f1b-448f-af1f-845978e47e2c",
   "metadata": {},
   "source": [
    "<table style=\"margin: 0; text-align: left;\">\n",
    "    <tr>\n",
    "        <td style=\"width: 150px; height: 150px; vertical-align: middle;\">\n",
    "            <img src=\"../business.jpg\" width=\"150\" height=\"150\" style=\"display: block;\" />\n",
    "        </td>\n",
    "        <td>\n",
    "            <h2 style=\"color:#181;\">Business applications</h2>\n",
    "            <span style=\"color:#181;\">In this exercise, you experienced calling the Cloud API of a Frontier Model (a leading model at the frontier of AI) for the first time. We will be using APIs like OpenAI at many stages in the course, in addition to building our own LLMs.\n",
    "\n",
    "More specifically, we've applied this to Summarization - a classic Gen AI use case to make a summary. This can be applied to any business vertical - summarizing the news, summarizing financial performance, summarizing a resume in a cover letter - the applications are limitless. Consider how you could apply Summarization in your business, and try prototyping a solution.</span>\n",
    "        </td>\n",
    "    </tr>\n",
    "</table>\n",
    "\n",
    "<table style=\"margin: 0; text-align: left;\">\n",
    "    <tr>\n",
    "        <td style=\"width: 150px; height: 150px; vertical-align: middle;\">\n",
    "            <img src=\"../important.jpg\" width=\"150\" height=\"150\" style=\"display: block;\" />\n",
    "        </td>\n",
    "        <td>\n",
    "            <h2 style=\"color:#900;\">Before you continue - now try yourself</h2>\n",
    "            <span style=\"color:#900;\">Use the cell below to make your own simple commercial example. Stick with the summarization use case for now. Here's an idea: write something that will take the contents of an email, and will suggest an appropriate short subject line for the email. That's the kind of feature that might be built into a commercial email tool.</span>\n",
    "        </td>\n",
    "    </tr>\n",
    "</table>"
   ]
  },
  {
   "cell_type": "code",
   "execution_count": null,
   "id": "85ad7110",
   "metadata": {},
   "outputs": [
    {
     "name": "stdout",
     "output_type": "stream",
     "text": [
      "Collecting PyPDF2\n",
      "  Downloading pypdf2-3.0.1-py3-none-any.whl.metadata (6.8 kB)\n",
      "Downloading pypdf2-3.0.1-py3-none-any.whl (232 kB)\n",
      "Installing collected packages: PyPDF2\n",
      "Successfully installed PyPDF2-3.0.1\n"
     ]
    }
   ],
   "source": [
    "# !pip install PyPDF2"
   ]
  },
  {
   "cell_type": "code",
   "execution_count": 29,
   "id": "21c3c923",
   "metadata": {},
   "outputs": [
    {
     "name": "stdout",
     "output_type": "stream",
     "text": [
      "SAISAMARTH  TALURI  \n",
      "07552884811  ⋄ saisamarth@gmail.com  ⋄ linkedin.com  ⋄ github.com  \n",
      " \n",
      " \n",
      "PERSONAL  STATEMENT   \n",
      "Computer science graduate advancing my expertise through a master’s in Speech and Language Processing at Edinburgh. Extensive  AI \n",
      "experience across internships, research, and projects, with proficiency in machine learning, deep learning, and LLMs.   \n",
      "EDUCATION   \n",
      "MSc  Speech  and Language  Processing , University  of Edinburgh  Sept  2024  — Present  \n",
      "• Awarded  India  Merit  Scholarship  of 5000  pounds  \n",
      "• Core  modules  include:  Speech  Processing,  Natural  Language  Processing,  Applied  Machine  Learning  \n",
      "BTech  Computer  Science  and Engineering , PES University  Aug 2020  — May  2024  \n",
      "CGPA:  9.12  \n",
      "• Graduated  with  a specialization  in Machine  Intelligence  and Data  science  \n",
      "• Awarded  scholarships  for academic excellence  in 1nd and 2rd year  \n",
      "• Chosen  specialism  modules  include:  Machine  Learning,  Deep  Learning,  Computer  Vision,  Data  Analytics  \n",
      "• Dissertation  topic:  ”Generative  AI for Virtual  Diagnostic  Training  in Medical  Education”  \n",
      "RELEVANT  WORK  EXPERIENCE   \n",
      "Technical  Consultant , Novelty  Data  Solutions  LLP Aug 2020  — Aug 2024  \n",
      "• Created  an advanced  essay  evaluation  framework  using  Mixtral -8x22B  integrated  with  GraphRAG  that generates  quanti - tative and \n",
      "qualitative analyses of student essays.  \n",
      "• Automated  optical  character  recognition  (OCR)  process  for bank  cheques  using  PaddleOCR  coupled  with  the LLAMA  3 70B. \n",
      "Implemented zero -shot prompting techniques, reducing manual processing time significantly.  \n",
      "• Fine -tuned  Zephyr -7b on 10,000  annotated  cheques  to increase  accuracy  to 95%  and reduce  cost to only  10%  of previous solution \n",
      "using self -hosted hardware.  \n",
      "• Developed  a Streamlit -powered  web  app offering  comprehensive  EDA tools,  live stock  data  fetching,  and time  series \n",
      "predictions with using SARIMA, LSTM and Prophet with YData and visualized forecasting results.  \n",
      "Freelance  ML Engineer  Jan 2024  — Aug 2024  \n",
      "• Engineered advanced data pipelines to crawl and process multiple key features of Indian stock data, including technical indic ators, \n",
      "market sentiment, and candlestick patterns.  \n",
      "• Actively contributed to the development and training of a TabNet model, performing extensive training and validation analysis  of \n",
      "diversified stock datasets to improve prediction reliability.  \n",
      "• Developed a cutting -edge framework capable of generating large, complex synthetic data tables from minimal metadata using \n",
      "Mixtral 8x22B combined with SDV and Gretel.  \n",
      "• Enhanced  the framework  to achieve  a 91%  agreement  using  GPT4o,  recursive  generation,  code  execution,  automatic  error \n",
      "detection and handling using agents from CrewAI and Autogen.  \n",
      "Research  Intern , Indian  Institute  of Science  Sept  2023  — June  2024  \n",
      "• Developed benchmark code tailored for training and inference of image and text models on Nvidia Edge Accelerators,  optimizing \n",
      "performance for edge computing environments.  \n",
      "• Crafted  scripts  to predict  time  and power  consumption  metrics,  analyzing  experimental  data  composed  of 30,000  records using \n",
      "deep learning methods.  \n",
      "• Developed and evaluated various optimization frameworks to maximize device efficiency in constrained environments.  \n",
      "Conducted comprehensive comparison studies to identify optimal configurations and practices.  \n",
      "• Efficiently  executed  multiple  sets of benchmarking  tests  across  various  parameters  using  Linux  systems.  \n",
      "Artificial  Intelligence  Intern , Third  Ray,  Inc June  2023  — Aug 2023  \n",
      "• Deployed multiple open -source large language models (LLMs) on Google Cloud Platform and Azure, using quantization \n",
      "frameworks to enhance computational efficiency and reduce infrastructure costs.  \n",
      "• Utilized GPT -4 API to generate high -quality synthetic medical data, achieving significant optimization by restructuring prompts to \n",
      "reduce token usage by 60%, enhancing generation speed and cost -effectiveness.  \n",
      "• Fine -tuned various LLMs using Hugging Face’s Supervised Fine -Tuning (SFT) on custom datasets focused on medical conversations, \n",
      "improving model relevance and accuracy for healthcare industry applications.  \n",
      "• Developed  sophisticated  chatbots  capable  of document  search,  integrating  Azure  OpenAI  API for conversation  intelligence, using  \n",
      "OpenAI  embeddings  for vectorization  with  Pinecone,  and employing  Retrieval -Augmented  Generation  (RAG)  with Langchain for \n",
      "enhanced data retrieval relevance.  \n",
      "Data  Analyst , PESU  I/O Aug 2022  — Dec 2022  \n",
      "• Analyzed  extensive  datasets  encompassing  over  15,000  student  registration  records  using  machine  learning  techniques  to \n",
      "accurately forecast student turnout and predict course popularity.  \n",
      "• Generated  comprehensive  reports  with  advanced  visualizations  that analyzed  trends  and patterns  from  student  data.  These reports  \n",
      "supported  strategic  decisions,  leading  to an improvement  in course  planning  efficiency  and a reduction  in resource wastage.  \n",
      "Summer  Program  Student , National  University  of Singapore  June  2022  — July 2022  \n",
      "• Completed an advanced course titled ”Data Analytics with Deep Learning”, taught by professors from the National University of  \n",
      "Singapore (NUS) with industry collaboration from Hewlett -Packard Enterprise (HPE).  \n",
      "• Engineered an application specifically designed to aid visually impaired individuals, utilizing object detection and depth es timation.  \n",
      "Implemented  by YOLOv5  and MiDaS  and achieved  enhanced  detection  accuracy  by fine-tuning  YOLOv5  on selected classes from \n",
      "the MS COCO dataset.  \n",
      "TECHNICAL  SKILLS   \n",
      "Programming  Languages:  Python,  MySQL,  C, HTML/CSS,  JavaScript,  Java,  R \n",
      "Key Subjects:  Data Analytics, Machine Intelligence, Deep Learning, Computer Vision, Reinforcement Learning, Database Management \n",
      "Systems, Computer Networks, Big Data, Data Structures and Applications, Operating Systems, Software Engi - neering  \n",
      "Certifications:  Mathematics for Machine Learning and Data Science Specialization (DeepLearning.ai), Machine Learning Specialization \n",
      "(DeepLearning.ai), Data Analytics using Deep Learning (National University of Singapore), HPE CTY 2023, Computer Vision with Deep \n",
      "Learning (PESU I/O), 30 Days of Google Cloud (Google Qwiklabs)  \n",
      "PUBLICATIONS   \n",
      "1. Prashanthi  S K, Saisamarth  Taluri , Lakshya  Karwa,  Kedar  Dhule,  and Yogesh  Simmhan,  AutoCITE:  Automated  Tuning of Concurrent  \n",
      "Inferencing  and Training  on Edge , Sensys 2025 – Waiting Decision  \n",
      "2. Prashanthi  S K, Saisamarth  Taluri , Beautlin  S, Lakshya  Karwa,  and Yogesh  Simmhan,  “PowerTrain:  Fast,  Generalizable Time and Power \n",
      "Prediction Models to Optimize DNN Training on Accelerated Edges” , Future Generation Computer Systems, \n",
      "https://doi.org/10.1016/j.future.2024.07.001  \n",
      "3. Saisamarth  Taluri , Cherindranath  Reddy,  Prakriti  Baral  and Soumya  Konar,  “Advancing  Sentence  Simplification  with Transformer \n",
      "Neural Networks” , International Conference on Emerging Trends in Digital Technologies 2024  \n",
      "4. Shruti  Jadon,  Saisamarth  Taluri , Sakshi  Birthi,  Sanjana  Mahesh,  Sankalp  Kumar,  Sai Shruthi  Shashidhar  and Prasad  B. Honnavalli,  “An \n",
      "Assistive  Model  for the Visually  Impaired  Integrating  the Domains  of IoT, Blockchain  and Deep  Learning” , MDPI Symmetry 2023, \n",
      "https://doi.org/10.3390/sym15091627  \n",
      "OTHER  WORK  EXPERIENCE   \n",
      "Personnel  Management  Executive  Manager , PESU  I/O Jan 2023  — Apr 2023  \n",
      "• Successfully directed the comprehensive lifecycle of slot planning, from strategic design through to final certification. Ach ieved  the \n",
      "highest  number  of student  enrollments  compared  to previous  slots,  witnessing  a 65%  increase  from  the prior session.  \n",
      "• Managed  a dedicated  team  tasked  with  enhancing  communication  flows  between  trainers  and students,  resulting  in a 15% higher \n",
      "score in feedback reports.  \n",
      "VOLUNTEERING   \n",
      "Crowd  Management  Organiser , Chords  2021,  PES University  Ensemble  Fest \n",
      "Played  a key role in organizing  and managing  large  crowds,  ensuring  smooth  event  flow  and attendee  safety.  \n",
      "Blood  Donation , Banglore  Medical  Services  Trust,  Rotary  Banglore  Blood  Centre  \n",
      "Actively  participated  in blood  donation  drives,  contributing  to community  health  and emergency  medical  needs.  \n"
     ]
    }
   ],
   "source": [
    "import PyPDF2\n",
    "\n",
    "def extract_text_from_pdf(pdf_path):\n",
    "    try:\n",
    "        # Open the PDF file in read-binary mode\n",
    "        with open(pdf_path, 'rb') as file:\n",
    "            reader = PyPDF2.PdfReader(file)\n",
    "            text = \"\"\n",
    "            # Iterate through all the pages\n",
    "            for page in reader.pages:\n",
    "                text += page.extract_text()\n",
    "            return text\n",
    "    except Exception as e:\n",
    "        return f\"An error occurred: {e}\"\n",
    "\n",
    "# Specify the path to your PDF file\n",
    "pdf_file_path = \"../CV.pdf\"\n",
    "\n",
    "# Extract and print the text\n",
    "extracted_text = extract_text_from_pdf(pdf_file_path)\n",
    "print(extracted_text)\n"
   ]
  },
  {
   "cell_type": "code",
   "execution_count": 31,
   "id": "00743dac-0e70-45b7-879a-d7293a6f68a6",
   "metadata": {},
   "outputs": [
    {
     "name": "stdout",
     "output_type": "stream",
     "text": [
      "Saisamarth Taluri's CV indicates a strong background in computer science, specifically in artificial intelligence, machine learning, and speech and language processing. Given his ongoing master's studies at the University of Edinburgh and extensive hands-on experience in developing AI-driven solutions, he is well-suited for roles such as AI/Machine Learning Engineer, Data Scientist, or NLP Engineer. His experience with model fine-tuning, data pipeline engineering, and projects involving large language models makes him particularly qualified for positions that require expertise in natural language processing and machine learning applications in various domains, including healthcare and finance. Additionally, his research contributions and publications enhance his profile for roles that require a blend of technical and theoretical understanding in AI technologies.\n"
     ]
    }
   ],
   "source": [
    "# Step 1: Create your prompts\n",
    "\n",
    "system_prompt = \"You are a HR manager who analyses CVs and finds the best type of role for that particular CV.\"\n",
    "user_prompt = \"\"\"\n",
    "    Given below is the content of a CV. Analyse the CV and give a short paragraph on which roles the CV profile is best suited for. \n",
    "    CV Content: \\n\\n\n",
    "\"\"\"\n",
    "user_prompt +=  extract_text_from_pdf(pdf_file_path)\n",
    "# Step 2: Make the messages list\n",
    "\n",
    "messages = [{\"role\":\"system\", \"content\":system_prompt}, {\"role\":\"user\", \"content\":user_prompt}] # fill this in\n",
    "\n",
    "# Step 3: Call OpenAI\n",
    "\n",
    "response = openai.chat.completions.create(\n",
    "        model = \"gpt-4o-mini\",\n",
    "        messages = messages\n",
    "    )\n",
    "\n",
    "# Step 4: print the result\n",
    "\n",
    "print(response.choices[0].message.content)"
   ]
  },
  {
   "cell_type": "markdown",
   "id": "36ed9f14-b349-40e9-a42c-b367e77f8bda",
   "metadata": {},
   "source": [
    "## An extra exercise for those who enjoy web scraping\n",
    "\n",
    "You may notice that if you try `display_summary(\"https://openai.com\")` - it doesn't work! That's because OpenAI has a fancy website that uses Javascript. There are many ways around this that some of you might be familiar with. For example, Selenium is a hugely popular framework that runs a browser behind the scenes, renders the page, and allows you to query it. If you have experience with Selenium, Playwright or similar, then feel free to improve the Website class to use them. In the community-contributions folder, you'll find an example Selenium solution from a student (thank you!)"
   ]
  },
  {
   "cell_type": "markdown",
   "id": "eeab24dc-5f90-4570-b542-b0585aca3eb6",
   "metadata": {},
   "source": [
    "# Sharing your code\n",
    "\n",
    "I'd love it if you share your code afterwards so I can share it with others! You'll notice that some students have already made changes (including a Selenium implementation) which you will find in the community-contributions folder. If you'd like add your changes to that folder, submit a Pull Request with your new versions in that folder and I'll merge your changes.\n",
    "\n",
    "If you're not an expert with git (and I am not!) then GPT has given some nice instructions on how to submit a Pull Request. It's a bit of an involved process, but once you've done it once it's pretty clear. As a pro-tip: it's best if you clear the outputs of your Jupyter notebooks (Edit >> Clean outputs of all cells, and then Save) for clean notebooks.\n",
    "\n",
    "Here are good instructions courtesy of an AI friend:  \n",
    "https://chatgpt.com/share/677a9cb5-c64c-8012-99e0-e06e88afd293"
   ]
  }
 ],
 "metadata": {
  "kernelspec": {
   "display_name": "llms",
   "language": "python",
   "name": "python3"
  },
  "language_info": {
   "codemirror_mode": {
    "name": "ipython",
    "version": 3
   },
   "file_extension": ".py",
   "mimetype": "text/x-python",
   "name": "python",
   "nbconvert_exporter": "python",
   "pygments_lexer": "ipython3",
   "version": "3.11.11"
  }
 },
 "nbformat": 4,
 "nbformat_minor": 5
}
